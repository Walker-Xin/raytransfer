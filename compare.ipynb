{
 "cells": [
  {
   "cell_type": "code",
   "execution_count": 1,
   "metadata": {},
   "outputs": [],
   "source": [
    "import numpy as np\n",
    "import pandas as pd\n",
    "import itertools as it\n",
    "import matplotlib.pyplot as plt"
   ]
  },
  {
   "cell_type": "code",
   "execution_count": 6,
   "metadata": {},
   "outputs": [],
   "source": [
    "changed = r'C:\\Users\\WalkerXin\\Documents\\Scripts\\raytransfer\\photons\\photons4trf_a9.50000e-001.i7.07e-001.Mdl_0.00e+000.dp_0.00e+000.dat'\n",
    "original = r'C:\\Users\\WalkerXin\\Documents\\Scripts\\raytransfer\\photons_gtr copy\\photons4trf_a9.50000e-001.i7.07e-001.Mdl_0.00e+000.dp_0.00e+000.dat'"
   ]
  },
  {
   "cell_type": "code",
   "execution_count": 7,
   "metadata": {},
   "outputs": [],
   "source": [
    "def read_data(file):\n",
    "    re, g, xobs, yobs, cosem, gminus, xobsminus, yobsminus, gplus, xobsplus, yobsplus = np.loadtxt(file, unpack=True)\n",
    "    \n",
    "    # Create a DataFrame\n",
    "    data = pd.DataFrame({'re': re, 'g': g, 'xobs': xobs, 'yobs': yobs, 'cosem': cosem, 'gminus': gminus, 'xobsminus': xobsminus, 'yobsminus': yobsminus, 'gplus': gplus, 'xobsplus': xobsplus, 'yobsplus': yobsplus})\n",
    "\n",
    "    \n",
    "    return data"
   ]
  },
  {
   "cell_type": "code",
   "execution_count": 8,
   "metadata": {},
   "outputs": [],
   "source": [
    "data_changed = read_data(changed)\n",
    "data_original = read_data(original)"
   ]
  },
  {
   "cell_type": "code",
   "execution_count": 13,
   "metadata": {},
   "outputs": [
    {
     "name": "stderr",
     "output_type": "stream",
     "text": [
      "C:\\Users\\WalkerXin\\AppData\\Local\\Temp\\ipykernel_28116\\440673189.py:5: FutureWarning: DataFrame.applymap has been deprecated. Use DataFrame.map instead.\n",
      "  diff = diff.applymap(lambda x: 0 if x < 0.0001 else x)\n"
     ]
    }
   ],
   "source": [
    "# Create diff table (absolute percentage difference)\n",
    "diff = ((data_changed - data_original)/data_original).abs()\n",
    "\n",
    "# Set anything less than 0.01% to 0\n",
    "diff = diff.applymap(lambda x: 0 if x < 0.0001 else x)"
   ]
  },
  {
   "cell_type": "code",
   "execution_count": 39,
   "metadata": {},
   "outputs": [
    {
     "name": "stdout",
     "output_type": "stream",
     "text": [
      "-2.077 2.076\n",
      "-4.33 4.328\n",
      "-5.433 5.432\n",
      "-6.211 6.21\n",
      "-6.803 6.802\n",
      "-7.268 7.267\n",
      "-7.636 7.635\n",
      "-7.928 7.927\n",
      "-8.158 8.157\n",
      "-8.335 8.335\n",
      "-8.467 8.467\n",
      "-8.561 8.56\n",
      "-8.619 8.619\n",
      "-8.647 8.647\n",
      "-8.648 8.648\n",
      "-8.623 8.623\n",
      "-8.575 8.576\n",
      "-8.507 8.507\n",
      "-8.419 8.42\n",
      "-8.313 8.314\n",
      "-8.19 8.191\n",
      "-8.051 8.051\n",
      "-7.896 7.897\n",
      "-7.726 7.727\n",
      "-7.542 7.543\n",
      "-7.343 7.344\n",
      "-7.13 7.13\n",
      "-6.901 6.902\n",
      "-6.658 6.659\n",
      "-6.399 6.4\n",
      "-6.123 6.124\n",
      "-5.827 5.829\n",
      "-5.511 5.512\n",
      "-5.17 5.171\n",
      "-4.798 4.8\n",
      "-4.389 4.39\n",
      "-3.926 3.928\n",
      "-3.383 3.384\n",
      "-2.689 2.691\n",
      "-1.405 1.407\n",
      "0.0 0.0\n"
     ]
    }
   ],
   "source": [
    "maxlines = 84\n",
    "\n",
    "# Branch 1\n",
    "for j in range(0, 42):\n",
    "    # print(data_changed.loc[j, 'yobs'], data_original.loc[42+j, 'yobs'])\n",
    "    pass\n",
    "for j in range(43, 84):\n",
    "    print(data_changed.loc[j, 'yobsminus'], data_original.loc[j-42, 'yobsminus'])"
   ]
  },
  {
   "cell_type": "code",
   "execution_count": 61,
   "metadata": {},
   "outputs": [],
   "source": [
    "# Refactor changed data\n",
    "# Apply negative to y values\n",
    "# data_changed['yobs'] = -data_changed['yobs']\n",
    "# data_changed['yobsminus'] = -data_changed['yobsminus']\n",
    "# data_changed['yobsplus'] = -data_changed['yobsplus']\n",
    "\n",
    "# Switch rows [1:40] with [43:82]\n",
    "for name in ['yobs']:\n",
    "    temp1 = data_changed.loc[1:40, name].copy()\n",
    "    temp2 = data_changed.loc[43:82, name].copy()\n",
    "    data_changed.loc[1:40, name] = temp2\n",
    "    data_changed.loc[43:82, name] = temp1"
   ]
  }
 ],
 "metadata": {
  "kernelspec": {
   "display_name": "base",
   "language": "python",
   "name": "python3"
  },
  "language_info": {
   "codemirror_mode": {
    "name": "ipython",
    "version": 3
   },
   "file_extension": ".py",
   "mimetype": "text/x-python",
   "name": "python",
   "nbconvert_exporter": "python",
   "pygments_lexer": "ipython3",
   "version": "3.9.18"
  }
 },
 "nbformat": 4,
 "nbformat_minor": 2
}
